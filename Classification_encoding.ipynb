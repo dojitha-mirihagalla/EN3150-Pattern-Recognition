{
 "cells": [
  {
   "cell_type": "code",
   "execution_count": 3,
   "metadata": {},
   "outputs": [
    {
     "name": "stdout",
     "output_type": "stream",
     "text": [
      "Display class (species) label and encoded classes with all features\n",
      "\n",
      "       species     island  bill_length_mm  bill_depth_mm  flipper_length_mm  \\\n",
      "0       Adelie  Torgersen            39.1           18.7              181.0   \n",
      "152  Chinstrap      Dream            46.5           17.9              192.0   \n",
      "220     Gentoo     Biscoe            46.1           13.2              211.0   \n",
      "\n",
      "     body_mass_g     sex  class_encoded  \n",
      "0         3750.0    Male              0  \n",
      "152       3500.0  Female              1  \n",
      "220       4500.0  Female              2  \n",
      "\n",
      "Display class (species) label and encoded classes\n",
      "\n",
      "     class_encoded    species\n",
      "0                0     Adelie\n",
      "152              1  Chinstrap\n",
      "220              2     Gentoo\n"
     ]
    }
   ],
   "source": [
    "#see https://scikit-learn.org/stable/modules/preprocessing.html#preprocessing-categorical-features \n",
    "#(6.3.4. Encoding categorical features)\n",
    "import seaborn as sns\n",
    "from sklearn.preprocessing import LabelEncoder\n",
    "import pandas as pd\n",
    "\n",
    "df = sns.load_dataset(\"penguins\")\n",
    "le = LabelEncoder()\n",
    "y_encoded = le.fit_transform(df['species'])\n",
    "df['class_encoded'] = y_encoded\n",
    "\n",
    "samples = df.groupby('species').head(1)\n",
    "\n",
    "\n",
    "print(\"Display class (species) label and encoded classes with all features\")\n",
    "print()\n",
    "print(samples)\n",
    "print()\n",
    "print(\"Display class (species) label and encoded classes\")\n",
    "# Display only class label and species\n",
    "print()\n",
    "print(samples[['class_encoded', 'species']])"
   ]
  },
  {
   "cell_type": "code",
   "execution_count": 4,
   "metadata": {},
   "outputs": [
    {
     "name": "stdout",
     "output_type": "stream",
     "text": [
      "Display class (species) label and encoded classes with all features\n",
      "\n",
      "     species     island  bill_length_mm  bill_depth_mm  flipper_length_mm  \\\n",
      "0     Adelie  Torgersen            39.1           18.7              181.0   \n",
      "1  Chinstrap      Dream            46.5           17.9              192.0   \n",
      "2     Gentoo     Biscoe            46.1           13.2              211.0   \n",
      "\n",
      "   body_mass_g     sex  species_Adelie  species_Chinstrap  species_Gentoo  \n",
      "0       3750.0    Male             1.0                0.0             0.0  \n",
      "1       3500.0  Female             0.0                1.0             0.0  \n",
      "2       4500.0  Female             0.0                0.0             1.0  \n",
      "\n",
      "Display class (species) label and encoded classes\n",
      "\n",
      "   species_Adelie  species_Chinstrap  species_Gentoo    species\n",
      "0             1.0                0.0             0.0     Adelie\n",
      "1             0.0                1.0             0.0  Chinstrap\n",
      "2             0.0                0.0             1.0     Gentoo\n"
     ]
    },
    {
     "name": "stderr",
     "output_type": "stream",
     "text": [
      "c:\\Users\\Sampath\\AppData\\Local\\Programs\\Python\\Python37\\lib\\site-packages\\sklearn\\utils\\deprecation.py:87: FutureWarning: Function get_feature_names is deprecated; get_feature_names is deprecated in 1.0 and will be removed in 1.2. Please use get_feature_names_out instead.\n",
      "  warnings.warn(msg, category=FutureWarning)\n"
     ]
    }
   ],
   "source": [
    "import seaborn as sns\n",
    "from sklearn.preprocessing import OneHotEncoder\n",
    "import pandas as pd\n",
    "df = sns.load_dataset(\"penguins\")\n",
    "# One-hot encoding for species column\n",
    "ohe = OneHotEncoder(sparse=False)\n",
    "species_encoded = ohe.fit_transform(df[['species']])\n",
    "species_encoded_df = pd.DataFrame(species_encoded, columns=ohe.get_feature_names(['species']))\n",
    "\n",
    "# Combine the one-hot encoded species with the original DataFrame\n",
    "df_encoded = pd.concat([df, species_encoded_df], axis=1)\n",
    "\n",
    "# Group the data by class and select the first sample from each group\n",
    "samples = df_encoded.groupby('species').first().reset_index()\n",
    "\n",
    "# Display the samples\n",
    "print(\"Display class (species) label and encoded classes with all features\")\n",
    "print()\n",
    "print(samples)\n",
    "print()\n",
    "print(\"Display class (species) label and encoded classes\")\n",
    "# Display only class label and species\n",
    "print()\n",
    "print(samples[['species_Adelie',  'species_Chinstrap',  'species_Gentoo', 'species']])"
   ]
  },
  {
   "cell_type": "code",
   "execution_count": 12,
   "metadata": {},
   "outputs": [
    {
     "name": "stdout",
     "output_type": "stream",
     "text": [
      "Display class (species) label and encoded classes with all features\n",
      "\n",
      "     species     island  bill_length_mm  bill_depth_mm  flipper_length_mm  \\\n",
      "0     Adelie  Torgersen            39.1           18.7              181.0   \n",
      "1  Chinstrap      Dream            46.5           17.9              192.0   \n",
      "2     Gentoo     Biscoe            46.1           13.2              211.0   \n",
      "\n",
      "   body_mass_g     sex  y_labels  \n",
      "0       3750.0    Male         0  \n",
      "1       3500.0  Female         1  \n",
      "2       4500.0  Female         2  \n",
      "\n"
     ]
    }
   ],
   "source": [
    "# Also it is possible to use pd.factorize\n",
    "y = df['species']\n",
    "\n",
    "\n",
    "# Convert categorical values to numerical labels\n",
    "y_labels, y_unique = pd.factorize(y)\n",
    "\n",
    "df['y_labels'] = y_labels\n",
    "samples = df.groupby('species').first().reset_index()\n",
    "\n",
    "# Display the samples\n",
    "print(\"Display class (species) label and encoded classes with all features\")\n",
    "print()\n",
    "print(samples)\n",
    "print()\n",
    "\n"
   ]
  }
 ],
 "metadata": {
  "kernelspec": {
   "display_name": "Python 3",
   "language": "python",
   "name": "python3"
  },
  "language_info": {
   "codemirror_mode": {
    "name": "ipython",
    "version": 3
   },
   "file_extension": ".py",
   "mimetype": "text/x-python",
   "name": "python",
   "nbconvert_exporter": "python",
   "pygments_lexer": "ipython3",
   "version": "3.7.7"
  },
  "orig_nbformat": 4
 },
 "nbformat": 4,
 "nbformat_minor": 2
}
